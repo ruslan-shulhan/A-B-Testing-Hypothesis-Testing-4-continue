{
 "cells": [
  {
   "cell_type": "markdown",
   "metadata": {},
   "source": [
    "<h1>A / B Testing</h1>"
   ]
  },
  {
   "cell_type": "markdown",
   "metadata": {},
   "source": [
    "<b>Description: </b>A fast-food chain plans to add a new item to its menu. However, they are still undecided between three possible marketing campaigns for promoting the new product. In order to determine which promotion has the greatest effect on sales, the new item is introduced at locations in several randomly selected markets. A different promotion is used at each location, and the weekly sales of the new item are recorded for the first four weeks. <br />\n",
    "\n",
    "<b>Objective: </b>evaluate A/B testing results and decide which marketing strategy works the best.<br />\n",
    "\n",
    "<b>Columns:</b><br />\n",
    "MarketID: unique identifier for market<br />\n",
    "MarketSize: size of market area by sales<br />\n",
    "LocationID: unique identifier for store location<br />\n",
    "AgeOfStore: age of store in years<br />\n",
    "Promotion: one of three promotions that were tested<br />\n",
    "week: one of four weeks when the promotions were run<br />\n",
    "SalesInThousands: sales amount for a specific LocationID, Promotion, and week<br />\n",
    "\n",
    "<b>Credentials:</b><br />\n",
    "https://rpubs.com/ksdwivedy/finalRProject<br />\n",
    "Hands-On Data Science for Marketing book by Yoon Hyup Hwang<br />\n",
    "https://unsplash.com/@shaafi for the picture<br />\n",
    "IBM Watson Analytics community for this dataset.<br />\n"
   ]
  },
  {
   "cell_type": "code",
   "execution_count": 2,
   "metadata": {},
   "outputs": [],
   "source": [
    "# import packages\n",
    "import numpy as np\n",
    "import pandas as pd\n",
    "%matplotlib inline\n",
    "\n",
    "import matplotlib.pyplot as plt\n",
    "import seaborn as sns\n",
    "sns.set(rc={'figure.figsize':(11.7,8.27)})\n",
    "\n",
    "from scipy.stats import shapiro\n",
    "from scipy.stats import mannwhitneyu\n",
    "from scipy.stats import kruskal\n",
    "from scikit_posthocs import posthoc_conover\n",
    "\n",
    "import warnings\n",
    "warnings.filterwarnings(\"ignore\")\n",
    "warnings.simplefilter(action=\"ignore\", category=FutureWarning)\n",
    "\n",
    "pd.set_option(\"display.max_columns\", None)"
   ]
  },
  {
   "cell_type": "markdown",
   "metadata": {},
   "source": [
    "<h3>Wrangling</h3>"
   ]
  },
  {
   "cell_type": "code",
   "execution_count": 3,
   "metadata": {},
   "outputs": [
    {
     "data": {
      "text/html": [
       "<div>\n",
       "<style scoped>\n",
       "    .dataframe tbody tr th:only-of-type {\n",
       "        vertical-align: middle;\n",
       "    }\n",
       "\n",
       "    .dataframe tbody tr th {\n",
       "        vertical-align: top;\n",
       "    }\n",
       "\n",
       "    .dataframe thead th {\n",
       "        text-align: right;\n",
       "    }\n",
       "</style>\n",
       "<table border=\"1\" class=\"dataframe\">\n",
       "  <thead>\n",
       "    <tr style=\"text-align: right;\">\n",
       "      <th></th>\n",
       "      <th>MarketID</th>\n",
       "      <th>MarketSize</th>\n",
       "      <th>LocationID</th>\n",
       "      <th>AgeOfStore</th>\n",
       "      <th>Promotion</th>\n",
       "      <th>week</th>\n",
       "      <th>SalesInThousands</th>\n",
       "    </tr>\n",
       "  </thead>\n",
       "  <tbody>\n",
       "    <tr>\n",
       "      <th>0</th>\n",
       "      <td>1</td>\n",
       "      <td>Medium</td>\n",
       "      <td>1</td>\n",
       "      <td>4</td>\n",
       "      <td>3</td>\n",
       "      <td>1</td>\n",
       "      <td>33.73</td>\n",
       "    </tr>\n",
       "    <tr>\n",
       "      <th>1</th>\n",
       "      <td>1</td>\n",
       "      <td>Medium</td>\n",
       "      <td>1</td>\n",
       "      <td>4</td>\n",
       "      <td>3</td>\n",
       "      <td>2</td>\n",
       "      <td>35.67</td>\n",
       "    </tr>\n",
       "    <tr>\n",
       "      <th>2</th>\n",
       "      <td>1</td>\n",
       "      <td>Medium</td>\n",
       "      <td>1</td>\n",
       "      <td>4</td>\n",
       "      <td>3</td>\n",
       "      <td>3</td>\n",
       "      <td>29.03</td>\n",
       "    </tr>\n",
       "    <tr>\n",
       "      <th>3</th>\n",
       "      <td>1</td>\n",
       "      <td>Medium</td>\n",
       "      <td>1</td>\n",
       "      <td>4</td>\n",
       "      <td>3</td>\n",
       "      <td>4</td>\n",
       "      <td>39.25</td>\n",
       "    </tr>\n",
       "    <tr>\n",
       "      <th>4</th>\n",
       "      <td>1</td>\n",
       "      <td>Medium</td>\n",
       "      <td>2</td>\n",
       "      <td>5</td>\n",
       "      <td>2</td>\n",
       "      <td>1</td>\n",
       "      <td>27.81</td>\n",
       "    </tr>\n",
       "    <tr>\n",
       "      <th>...</th>\n",
       "      <td>...</td>\n",
       "      <td>...</td>\n",
       "      <td>...</td>\n",
       "      <td>...</td>\n",
       "      <td>...</td>\n",
       "      <td>...</td>\n",
       "      <td>...</td>\n",
       "    </tr>\n",
       "    <tr>\n",
       "      <th>543</th>\n",
       "      <td>10</td>\n",
       "      <td>Large</td>\n",
       "      <td>919</td>\n",
       "      <td>2</td>\n",
       "      <td>1</td>\n",
       "      <td>4</td>\n",
       "      <td>64.34</td>\n",
       "    </tr>\n",
       "    <tr>\n",
       "      <th>544</th>\n",
       "      <td>10</td>\n",
       "      <td>Large</td>\n",
       "      <td>920</td>\n",
       "      <td>14</td>\n",
       "      <td>2</td>\n",
       "      <td>1</td>\n",
       "      <td>50.20</td>\n",
       "    </tr>\n",
       "    <tr>\n",
       "      <th>545</th>\n",
       "      <td>10</td>\n",
       "      <td>Large</td>\n",
       "      <td>920</td>\n",
       "      <td>14</td>\n",
       "      <td>2</td>\n",
       "      <td>2</td>\n",
       "      <td>45.75</td>\n",
       "    </tr>\n",
       "    <tr>\n",
       "      <th>546</th>\n",
       "      <td>10</td>\n",
       "      <td>Large</td>\n",
       "      <td>920</td>\n",
       "      <td>14</td>\n",
       "      <td>2</td>\n",
       "      <td>3</td>\n",
       "      <td>44.29</td>\n",
       "    </tr>\n",
       "    <tr>\n",
       "      <th>547</th>\n",
       "      <td>10</td>\n",
       "      <td>Large</td>\n",
       "      <td>920</td>\n",
       "      <td>14</td>\n",
       "      <td>2</td>\n",
       "      <td>4</td>\n",
       "      <td>49.41</td>\n",
       "    </tr>\n",
       "  </tbody>\n",
       "</table>\n",
       "<p>548 rows × 7 columns</p>\n",
       "</div>"
      ],
      "text/plain": [
       "     MarketID MarketSize  LocationID  AgeOfStore  Promotion  week  \\\n",
       "0           1     Medium           1           4          3     1   \n",
       "1           1     Medium           1           4          3     2   \n",
       "2           1     Medium           1           4          3     3   \n",
       "3           1     Medium           1           4          3     4   \n",
       "4           1     Medium           2           5          2     1   \n",
       "..        ...        ...         ...         ...        ...   ...   \n",
       "543        10      Large         919           2          1     4   \n",
       "544        10      Large         920          14          2     1   \n",
       "545        10      Large         920          14          2     2   \n",
       "546        10      Large         920          14          2     3   \n",
       "547        10      Large         920          14          2     4   \n",
       "\n",
       "     SalesInThousands  \n",
       "0               33.73  \n",
       "1               35.67  \n",
       "2               29.03  \n",
       "3               39.25  \n",
       "4               27.81  \n",
       "..                ...  \n",
       "543             64.34  \n",
       "544             50.20  \n",
       "545             45.75  \n",
       "546             44.29  \n",
       "547             49.41  \n",
       "\n",
       "[548 rows x 7 columns]"
      ]
     },
     "execution_count": 3,
     "metadata": {},
     "output_type": "execute_result"
    }
   ],
   "source": [
    "# loading file\n",
    "path = './data/raw/2/WA_Marketing-Campaign.csv'\n",
    "df = pd.read_csv(path)\n",
    "df"
   ]
  },
  {
   "cell_type": "code",
   "execution_count": 4,
   "metadata": {},
   "outputs": [
    {
     "name": "stdout",
     "output_type": "stream",
     "text": [
      "<class 'pandas.core.frame.DataFrame'>\n",
      "RangeIndex: 548 entries, 0 to 547\n",
      "Data columns (total 7 columns):\n",
      " #   Column            Non-Null Count  Dtype  \n",
      "---  ------            --------------  -----  \n",
      " 0   MarketID          548 non-null    int64  \n",
      " 1   MarketSize        548 non-null    object \n",
      " 2   LocationID        548 non-null    int64  \n",
      " 3   AgeOfStore        548 non-null    int64  \n",
      " 4   Promotion         548 non-null    int64  \n",
      " 5   week              548 non-null    int64  \n",
      " 6   SalesInThousands  548 non-null    float64\n",
      "dtypes: float64(1), int64(5), object(1)\n",
      "memory usage: 30.1+ KB\n"
     ]
    }
   ],
   "source": [
    "# checking info of our dataset\n",
    "df.info()"
   ]
  },
  {
   "cell_type": "code",
   "execution_count": 5,
   "metadata": {},
   "outputs": [
    {
     "data": {
      "text/plain": [
       "MarketID             10\n",
       "MarketSize            3\n",
       "LocationID          137\n",
       "AgeOfStore           25\n",
       "Promotion             3\n",
       "week                  4\n",
       "SalesInThousands    517\n",
       "dtype: int64"
      ]
     },
     "execution_count": 5,
     "metadata": {},
     "output_type": "execute_result"
    }
   ],
   "source": [
    "# checking for uniqueness of each column\n",
    "df.nunique()"
   ]
  },
  {
   "cell_type": "markdown",
   "metadata": {},
   "source": [
    "<b>Note: </b> we will be working with three different groups (promotions) to test our hypothesis."
   ]
  },
  {
   "cell_type": "code",
   "execution_count": 6,
   "metadata": {},
   "outputs": [
    {
     "data": {
      "text/plain": [
       "MarketID            0\n",
       "MarketSize          0\n",
       "LocationID          0\n",
       "AgeOfStore          0\n",
       "Promotion           0\n",
       "week                0\n",
       "SalesInThousands    0\n",
       "dtype: int64"
      ]
     },
     "execution_count": 6,
     "metadata": {},
     "output_type": "execute_result"
    }
   ],
   "source": [
    "# checking for missing values of each column\n",
    "df.isnull().sum()"
   ]
  },
  {
   "cell_type": "code",
   "execution_count": 7,
   "metadata": {},
   "outputs": [
    {
     "name": "stdout",
     "output_type": "stream",
     "text": [
      "# of duplacated rows:  0\n"
     ]
    }
   ],
   "source": [
    "# checking for duplicates\n",
    "print(f\"# of duplacated rows: \", sum(df.duplicated()))"
   ]
  },
  {
   "cell_type": "code",
   "execution_count": 8,
   "metadata": {},
   "outputs": [
    {
     "data": {
      "text/html": [
       "<div>\n",
       "<style scoped>\n",
       "    .dataframe tbody tr th:only-of-type {\n",
       "        vertical-align: middle;\n",
       "    }\n",
       "\n",
       "    .dataframe tbody tr th {\n",
       "        vertical-align: top;\n",
       "    }\n",
       "\n",
       "    .dataframe thead th {\n",
       "        text-align: right;\n",
       "    }\n",
       "</style>\n",
       "<table border=\"1\" class=\"dataframe\">\n",
       "  <thead>\n",
       "    <tr style=\"text-align: right;\">\n",
       "      <th></th>\n",
       "      <th>MarketID</th>\n",
       "      <th>MarketSize</th>\n",
       "      <th>LocationID</th>\n",
       "      <th>AgeOfStore</th>\n",
       "      <th>Promotion</th>\n",
       "      <th>week</th>\n",
       "      <th>SalesInThousands</th>\n",
       "    </tr>\n",
       "  </thead>\n",
       "  <tbody>\n",
       "    <tr>\n",
       "      <th>0</th>\n",
       "      <td>1</td>\n",
       "      <td>Medium</td>\n",
       "      <td>1</td>\n",
       "      <td>4</td>\n",
       "      <td>3</td>\n",
       "      <td>1</td>\n",
       "      <td>33730.0</td>\n",
       "    </tr>\n",
       "    <tr>\n",
       "      <th>1</th>\n",
       "      <td>1</td>\n",
       "      <td>Medium</td>\n",
       "      <td>1</td>\n",
       "      <td>4</td>\n",
       "      <td>3</td>\n",
       "      <td>2</td>\n",
       "      <td>35670.0</td>\n",
       "    </tr>\n",
       "    <tr>\n",
       "      <th>2</th>\n",
       "      <td>1</td>\n",
       "      <td>Medium</td>\n",
       "      <td>1</td>\n",
       "      <td>4</td>\n",
       "      <td>3</td>\n",
       "      <td>3</td>\n",
       "      <td>29030.0</td>\n",
       "    </tr>\n",
       "  </tbody>\n",
       "</table>\n",
       "</div>"
      ],
      "text/plain": [
       "   MarketID MarketSize  LocationID  AgeOfStore  Promotion  week  \\\n",
       "0         1     Medium           1           4          3     1   \n",
       "1         1     Medium           1           4          3     2   \n",
       "2         1     Medium           1           4          3     3   \n",
       "\n",
       "   SalesInThousands  \n",
       "0           33730.0  \n",
       "1           35670.0  \n",
       "2           29030.0  "
      ]
     },
     "execution_count": 8,
     "metadata": {},
     "output_type": "execute_result"
    }
   ],
   "source": [
    "# converting 'SalesInThousands' into the proper unit\n",
    "df['SalesInThousands'] = df['SalesInThousands'] * 1000\n",
    "df.head(3)"
   ]
  },
  {
   "cell_type": "markdown",
   "metadata": {},
   "source": [
    "<h3>EDA / Statistical Analysis</h3>"
   ]
  },
  {
   "cell_type": "code",
   "execution_count": 9,
   "metadata": {},
   "outputs": [
    {
     "data": {
      "text/html": [
       "<div>\n",
       "<style scoped>\n",
       "    .dataframe tbody tr th:only-of-type {\n",
       "        vertical-align: middle;\n",
       "    }\n",
       "\n",
       "    .dataframe tbody tr th {\n",
       "        vertical-align: top;\n",
       "    }\n",
       "\n",
       "    .dataframe thead th {\n",
       "        text-align: right;\n",
       "    }\n",
       "</style>\n",
       "<table border=\"1\" class=\"dataframe\">\n",
       "  <thead>\n",
       "    <tr style=\"text-align: right;\">\n",
       "      <th></th>\n",
       "      <th>count</th>\n",
       "    </tr>\n",
       "    <tr>\n",
       "      <th>Promotion</th>\n",
       "      <th></th>\n",
       "    </tr>\n",
       "  </thead>\n",
       "  <tbody>\n",
       "    <tr>\n",
       "      <th>1</th>\n",
       "      <td>172</td>\n",
       "    </tr>\n",
       "    <tr>\n",
       "      <th>2</th>\n",
       "      <td>188</td>\n",
       "    </tr>\n",
       "    <tr>\n",
       "      <th>3</th>\n",
       "      <td>188</td>\n",
       "    </tr>\n",
       "  </tbody>\n",
       "</table>\n",
       "</div>"
      ],
      "text/plain": [
       "           count\n",
       "Promotion       \n",
       "1            172\n",
       "2            188\n",
       "3            188"
      ]
     },
     "execution_count": 9,
     "metadata": {},
     "output_type": "execute_result"
    }
   ],
   "source": [
    "# checking how many stores were involved in each promotion\n",
    "df.groupby('Promotion')['MarketSize'].agg(['count'])"
   ]
  },
  {
   "cell_type": "markdown",
   "metadata": {},
   "source": [
    "<b>Note: </b> we can see that all three promotions were 'almost' evenly distributed among three random markets. The only thing here is that the first promotion was less 'actively' used compared to the second and third ones.  "
   ]
  },
  {
   "cell_type": "code",
   "execution_count": 10,
   "metadata": {},
   "outputs": [
    {
     "data": {
      "text/html": [
       "<div>\n",
       "<style scoped>\n",
       "    .dataframe tbody tr th:only-of-type {\n",
       "        vertical-align: middle;\n",
       "    }\n",
       "\n",
       "    .dataframe tbody tr th {\n",
       "        vertical-align: top;\n",
       "    }\n",
       "\n",
       "    .dataframe thead th {\n",
       "        text-align: right;\n",
       "    }\n",
       "</style>\n",
       "<table border=\"1\" class=\"dataframe\">\n",
       "  <thead>\n",
       "    <tr style=\"text-align: right;\">\n",
       "      <th></th>\n",
       "      <th></th>\n",
       "      <th>count</th>\n",
       "    </tr>\n",
       "    <tr>\n",
       "      <th>Promotion</th>\n",
       "      <th>MarketSize</th>\n",
       "      <th></th>\n",
       "    </tr>\n",
       "  </thead>\n",
       "  <tbody>\n",
       "    <tr>\n",
       "      <th rowspan=\"3\" valign=\"top\">1</th>\n",
       "      <th>Large</th>\n",
       "      <td>56</td>\n",
       "    </tr>\n",
       "    <tr>\n",
       "      <th>Medium</th>\n",
       "      <td>96</td>\n",
       "    </tr>\n",
       "    <tr>\n",
       "      <th>Small</th>\n",
       "      <td>20</td>\n",
       "    </tr>\n",
       "    <tr>\n",
       "      <th rowspan=\"3\" valign=\"top\">2</th>\n",
       "      <th>Large</th>\n",
       "      <td>64</td>\n",
       "    </tr>\n",
       "    <tr>\n",
       "      <th>Medium</th>\n",
       "      <td>108</td>\n",
       "    </tr>\n",
       "    <tr>\n",
       "      <th>Small</th>\n",
       "      <td>16</td>\n",
       "    </tr>\n",
       "    <tr>\n",
       "      <th rowspan=\"3\" valign=\"top\">3</th>\n",
       "      <th>Large</th>\n",
       "      <td>48</td>\n",
       "    </tr>\n",
       "    <tr>\n",
       "      <th>Medium</th>\n",
       "      <td>116</td>\n",
       "    </tr>\n",
       "    <tr>\n",
       "      <th>Small</th>\n",
       "      <td>24</td>\n",
       "    </tr>\n",
       "  </tbody>\n",
       "</table>\n",
       "</div>"
      ],
      "text/plain": [
       "                      count\n",
       "Promotion MarketSize       \n",
       "1         Large          56\n",
       "          Medium         96\n",
       "          Small          20\n",
       "2         Large          64\n",
       "          Medium        108\n",
       "          Small          16\n",
       "3         Large          48\n",
       "          Medium        116\n",
       "          Small          24"
      ]
     },
     "execution_count": 10,
     "metadata": {},
     "output_type": "execute_result"
    }
   ],
   "source": [
    "# checking which 'MarketSize' is more popular among all markets by the 'Promotion' column\n",
    "df.groupby(['Promotion', 'MarketSize'])['LocationID'].agg(['count'])"
   ]
  },
  {
   "cell_type": "code",
   "execution_count": 11,
   "metadata": {},
   "outputs": [],
   "source": [
    "# show histogram based on the 'Promotion' column and one that is provided by the user\n",
    "def show_hist(data, col_name, num_bins=0, is_kde=False):\n",
    "    for i in range(1, 4):\n",
    "        if num_bins == 0:\n",
    "            _ = sns.histplot(data=df[df['Promotion'] == i], x=col_name, kde=is_kde)\n",
    "        else:\n",
    "            _ = sns.histplot(data=df[df['Promotion'] == i], x=col_name, bins=num_bins, kde=is_kde)\n",
    "        _ = plt.title(f\"HISTPLOT - '{col_name.upper()}' by promotion #'{i}'\")\n",
    "        _ = plt.ylabel(\"# of stores\")\n",
    "        plt.show()\n",
    "        \n",
    "    return None"
   ]
  },
  {
   "cell_type": "code",
   "execution_count": 12,
   "metadata": {},
   "outputs": [
    {
     "data": {
      "image/png": "[encoded data removed]",
      "text/plain": [
       "<Figure size 842.4x595.44 with 1 Axes>"
      ]
     },
     "metadata": {},
     "output_type": "display_data"
    },
    {
     "data": {
      "image/png": "[encoded data removed]",
      "text/plain": [
       "<Figure size 842.4x595.44 with 1 Axes>"
      ]
     },
     "metadata": {},
     "output_type": "display_data"
    },
    {
     "data": {
      "image/png": "[encoded data removed]",
      "text/plain": [
       "<Figure size 842.4x595.44 with 1 Axes>"
      ]
     },
     "metadata": {},
     "output_type": "display_data"
    }
   ],
   "source": [
    "show_hist(df, 'MarketSize')"
   ]
  },
  {
   "cell_type": "markdown",
   "metadata": {},
   "source": [
    "<b>Note: </b> we can see that the most popular size of the store in our dataset is 'medium' among all three promotions."
   ]
  },
  {
   "cell_type": "code",
   "execution_count": 13,
   "metadata": {},
   "outputs": [
    {
     "data": {
      "text/html": [
       "<div>\n",
       "<style scoped>\n",
       "    .dataframe tbody tr th:only-of-type {\n",
       "        vertical-align: middle;\n",
       "    }\n",
       "\n",
       "    .dataframe tbody tr th {\n",
       "        vertical-align: top;\n",
       "    }\n",
       "\n",
       "    .dataframe thead th {\n",
       "        text-align: right;\n",
       "    }\n",
       "</style>\n",
       "<table border=\"1\" class=\"dataframe\">\n",
       "  <thead>\n",
       "    <tr style=\"text-align: right;\">\n",
       "      <th></th>\n",
       "      <th></th>\n",
       "      <th>min</th>\n",
       "      <th>max</th>\n",
       "      <th>median</th>\n",
       "      <th>std</th>\n",
       "    </tr>\n",
       "    <tr>\n",
       "      <th>Promotion</th>\n",
       "      <th>MarketSize</th>\n",
       "      <th></th>\n",
       "      <th></th>\n",
       "      <th></th>\n",
       "      <th></th>\n",
       "    </tr>\n",
       "  </thead>\n",
       "  <tbody>\n",
       "    <tr>\n",
       "      <th rowspan=\"3\" valign=\"top\">1</th>\n",
       "      <th>Large</th>\n",
       "      <td>1</td>\n",
       "      <td>24</td>\n",
       "      <td>3.0</td>\n",
       "      <td>6.863417</td>\n",
       "    </tr>\n",
       "    <tr>\n",
       "      <th>Medium</th>\n",
       "      <td>1</td>\n",
       "      <td>27</td>\n",
       "      <td>7.5</td>\n",
       "      <td>6.144317</td>\n",
       "    </tr>\n",
       "    <tr>\n",
       "      <th>Small</th>\n",
       "      <td>3</td>\n",
       "      <td>22</td>\n",
       "      <td>9.0</td>\n",
       "      <td>6.521220</td>\n",
       "    </tr>\n",
       "    <tr>\n",
       "      <th rowspan=\"3\" valign=\"top\">2</th>\n",
       "      <th>Large</th>\n",
       "      <td>1</td>\n",
       "      <td>23</td>\n",
       "      <td>7.0</td>\n",
       "      <td>5.427370</td>\n",
       "    </tr>\n",
       "    <tr>\n",
       "      <th>Medium</th>\n",
       "      <td>1</td>\n",
       "      <td>25</td>\n",
       "      <td>5.0</td>\n",
       "      <td>6.338551</td>\n",
       "    </tr>\n",
       "    <tr>\n",
       "      <th>Small</th>\n",
       "      <td>1</td>\n",
       "      <td>28</td>\n",
       "      <td>4.5</td>\n",
       "      <td>11.278298</td>\n",
       "    </tr>\n",
       "    <tr>\n",
       "      <th rowspan=\"3\" valign=\"top\">3</th>\n",
       "      <th>Large</th>\n",
       "      <td>1</td>\n",
       "      <td>19</td>\n",
       "      <td>4.5</td>\n",
       "      <td>5.603317</td>\n",
       "    </tr>\n",
       "    <tr>\n",
       "      <th>Medium</th>\n",
       "      <td>1</td>\n",
       "      <td>24</td>\n",
       "      <td>8.0</td>\n",
       "      <td>6.836712</td>\n",
       "    </tr>\n",
       "    <tr>\n",
       "      <th>Small</th>\n",
       "      <td>5</td>\n",
       "      <td>22</td>\n",
       "      <td>8.0</td>\n",
       "      <td>6.639801</td>\n",
       "    </tr>\n",
       "  </tbody>\n",
       "</table>\n",
       "</div>"
      ],
      "text/plain": [
       "                      min  max  median        std\n",
       "Promotion MarketSize                             \n",
       "1         Large         1   24     3.0   6.863417\n",
       "          Medium        1   27     7.5   6.144317\n",
       "          Small         3   22     9.0   6.521220\n",
       "2         Large         1   23     7.0   5.427370\n",
       "          Medium        1   25     5.0   6.338551\n",
       "          Small         1   28     4.5  11.278298\n",
       "3         Large         1   19     4.5   5.603317\n",
       "          Medium        1   24     8.0   6.836712\n",
       "          Small         5   22     8.0   6.639801"
      ]
     },
     "execution_count": 13,
     "metadata": {},
     "output_type": "execute_result"
    }
   ],
   "source": [
    "# checking the age of store\n",
    "df.groupby(['Promotion', 'MarketSize'])['AgeOfStore'].agg(['min', 'max', 'median', \"std\"])"
   ]
  },
  {
   "cell_type": "code",
   "execution_count": 14,
   "metadata": {},
   "outputs": [
    {
     "data": {
      "image/png": "[encoded data removed]",
      "text/plain": [
       "<Figure size 842.4x595.44 with 1 Axes>"
      ]
     },
     "metadata": {},
     "output_type": "display_data"
    },
    {
     "data": {
      "image/png": "[encoded data removed]",
      "text/plain": [
       "<Figure size 842.4x595.44 with 1 Axes>"
      ]
     },
     "metadata": {},
     "output_type": "display_data"
    },
    {
     "data": {
      "image/png": "[encoded data removed]",
      "text/plain": [
       "<Figure size 842.4x595.44 with 1 Axes>"
      ]
     },
     "metadata": {},
     "output_type": "display_data"
    }
   ],
   "source": [
    "show_hist(df, 'AgeOfStore', 10)"
   ]
  },
  {
   "cell_type": "markdown",
   "metadata": {},
   "source": [
    "<b>Note: </b> most of the stores fall within 4 to 9 years of being on the market."
   ]
  },
  {
   "cell_type": "code",
   "execution_count": 15,
   "metadata": {},
   "outputs": [
    {
     "data": {
      "text/html": [
       "<div>\n",
       "<style scoped>\n",
       "    .dataframe tbody tr th:only-of-type {\n",
       "        vertical-align: middle;\n",
       "    }\n",
       "\n",
       "    .dataframe tbody tr th {\n",
       "        vertical-align: top;\n",
       "    }\n",
       "\n",
       "    .dataframe thead th {\n",
       "        text-align: right;\n",
       "    }\n",
       "</style>\n",
       "<table border=\"1\" class=\"dataframe\">\n",
       "  <thead>\n",
       "    <tr style=\"text-align: right;\">\n",
       "      <th></th>\n",
       "      <th>count</th>\n",
       "      <th>min</th>\n",
       "      <th>max</th>\n",
       "      <th>mean</th>\n",
       "      <th>median</th>\n",
       "      <th>std</th>\n",
       "    </tr>\n",
       "    <tr>\n",
       "      <th>Promotion</th>\n",
       "      <th></th>\n",
       "      <th></th>\n",
       "      <th></th>\n",
       "      <th></th>\n",
       "      <th></th>\n",
       "      <th></th>\n",
       "    </tr>\n",
       "  </thead>\n",
       "  <tbody>\n",
       "    <tr>\n",
       "      <th>1</th>\n",
       "      <td>172</td>\n",
       "      <td>30810.0</td>\n",
       "      <td>99650.0</td>\n",
       "      <td>58099.011628</td>\n",
       "      <td>55385.0</td>\n",
       "      <td>16553.781698</td>\n",
       "    </tr>\n",
       "    <tr>\n",
       "      <th>2</th>\n",
       "      <td>188</td>\n",
       "      <td>17340.0</td>\n",
       "      <td>88640.0</td>\n",
       "      <td>47329.414894</td>\n",
       "      <td>45385.0</td>\n",
       "      <td>15108.954783</td>\n",
       "    </tr>\n",
       "    <tr>\n",
       "      <th>3</th>\n",
       "      <td>188</td>\n",
       "      <td>22180.0</td>\n",
       "      <td>96480.0</td>\n",
       "      <td>55364.468085</td>\n",
       "      <td>51165.0</td>\n",
       "      <td>16766.230774</td>\n",
       "    </tr>\n",
       "  </tbody>\n",
       "</table>\n",
       "</div>"
      ],
      "text/plain": [
       "           count      min      max          mean   median           std\n",
       "Promotion                                                              \n",
       "1            172  30810.0  99650.0  58099.011628  55385.0  16553.781698\n",
       "2            188  17340.0  88640.0  47329.414894  45385.0  15108.954783\n",
       "3            188  22180.0  96480.0  55364.468085  51165.0  16766.230774"
      ]
     },
     "execution_count": 15,
     "metadata": {},
     "output_type": "execute_result"
    }
   ],
   "source": [
    "# checking the summary of 'SalesInThousands' column by 'Promotion' columns\n",
    "df.groupby(['Promotion'])['SalesInThousands'].agg(['count', 'min', 'max', 'mean', 'median', \"std\"])"
   ]
  },
  {
   "cell_type": "markdown",
   "metadata": {},
   "source": [
    "<b>Note: </b> despite that, we have fewer stores that actively use promotion #1 we can state that promotion # 1 generates more profit than others (based on mean and median). But we will use statistics to test this hypothesis."
   ]
  },
  {
   "cell_type": "code",
   "execution_count": 16,
   "metadata": {},
   "outputs": [
    {
     "data": {
      "text/html": [
       "<div>\n",
       "<style scoped>\n",
       "    .dataframe tbody tr th:only-of-type {\n",
       "        vertical-align: middle;\n",
       "    }\n",
       "\n",
       "    .dataframe tbody tr th {\n",
       "        vertical-align: top;\n",
       "    }\n",
       "\n",
       "    .dataframe thead th {\n",
       "        text-align: right;\n",
       "    }\n",
       "</style>\n",
       "<table border=\"1\" class=\"dataframe\">\n",
       "  <thead>\n",
       "    <tr style=\"text-align: right;\">\n",
       "      <th></th>\n",
       "      <th></th>\n",
       "      <th>count</th>\n",
       "      <th>min</th>\n",
       "      <th>max</th>\n",
       "      <th>median</th>\n",
       "      <th>std</th>\n",
       "    </tr>\n",
       "    <tr>\n",
       "      <th>Promotion</th>\n",
       "      <th>MarketSize</th>\n",
       "      <th></th>\n",
       "      <th></th>\n",
       "      <th></th>\n",
       "      <th></th>\n",
       "      <th></th>\n",
       "    </tr>\n",
       "  </thead>\n",
       "  <tbody>\n",
       "    <tr>\n",
       "      <th rowspan=\"3\" valign=\"top\">1</th>\n",
       "      <th>Large</th>\n",
       "      <td>56</td>\n",
       "      <td>49620.0</td>\n",
       "      <td>99650.0</td>\n",
       "      <td>72835.0</td>\n",
       "      <td>15497.497015</td>\n",
       "    </tr>\n",
       "    <tr>\n",
       "      <th>Medium</th>\n",
       "      <td>96</td>\n",
       "      <td>30810.0</td>\n",
       "      <td>65110.0</td>\n",
       "      <td>47425.0</td>\n",
       "      <td>8067.330511</td>\n",
       "    </tr>\n",
       "    <tr>\n",
       "      <th>Small</th>\n",
       "      <td>20</td>\n",
       "      <td>51720.0</td>\n",
       "      <td>68420.0</td>\n",
       "      <td>61145.0</td>\n",
       "      <td>5127.278826</td>\n",
       "    </tr>\n",
       "    <tr>\n",
       "      <th rowspan=\"3\" valign=\"top\">2</th>\n",
       "      <th>Large</th>\n",
       "      <td>64</td>\n",
       "      <td>39360.0</td>\n",
       "      <td>88640.0</td>\n",
       "      <td>53010.0</td>\n",
       "      <td>15728.529349</td>\n",
       "    </tr>\n",
       "    <tr>\n",
       "      <th>Medium</th>\n",
       "      <td>108</td>\n",
       "      <td>17340.0</td>\n",
       "      <td>58100.0</td>\n",
       "      <td>39765.0</td>\n",
       "      <td>8807.406959</td>\n",
       "    </tr>\n",
       "    <tr>\n",
       "      <th>Small</th>\n",
       "      <td>16</td>\n",
       "      <td>36170.0</td>\n",
       "      <td>61250.0</td>\n",
       "      <td>51600.0</td>\n",
       "      <td>5869.815975</td>\n",
       "    </tr>\n",
       "    <tr>\n",
       "      <th rowspan=\"3\" valign=\"top\">3</th>\n",
       "      <th>Large</th>\n",
       "      <td>48</td>\n",
       "      <td>50050.0</td>\n",
       "      <td>96480.0</td>\n",
       "      <td>82345.0</td>\n",
       "      <td>14400.304184</td>\n",
       "    </tr>\n",
       "    <tr>\n",
       "      <th>Medium</th>\n",
       "      <td>116</td>\n",
       "      <td>22180.0</td>\n",
       "      <td>64140.0</td>\n",
       "      <td>46295.0</td>\n",
       "      <td>8091.366174</td>\n",
       "    </tr>\n",
       "    <tr>\n",
       "      <th>Small</th>\n",
       "      <td>24</td>\n",
       "      <td>46830.0</td>\n",
       "      <td>70600.0</td>\n",
       "      <td>59745.0</td>\n",
       "      <td>5212.686795</td>\n",
       "    </tr>\n",
       "  </tbody>\n",
       "</table>\n",
       "</div>"
      ],
      "text/plain": [
       "                      count      min      max   median           std\n",
       "Promotion MarketSize                                                \n",
       "1         Large          56  49620.0  99650.0  72835.0  15497.497015\n",
       "          Medium         96  30810.0  65110.0  47425.0   8067.330511\n",
       "          Small          20  51720.0  68420.0  61145.0   5127.278826\n",
       "2         Large          64  39360.0  88640.0  53010.0  15728.529349\n",
       "          Medium        108  17340.0  58100.0  39765.0   8807.406959\n",
       "          Small          16  36170.0  61250.0  51600.0   5869.815975\n",
       "3         Large          48  50050.0  96480.0  82345.0  14400.304184\n",
       "          Medium        116  22180.0  64140.0  46295.0   8091.366174\n",
       "          Small          24  46830.0  70600.0  59745.0   5212.686795"
      ]
     },
     "execution_count": 16,
     "metadata": {},
     "output_type": "execute_result"
    }
   ],
   "source": [
    "# checking the summary of 'SalesInThousands' column by 'Promotion' and 'MarketSize' columns\n",
    "df.groupby(['Promotion', 'MarketSize'])['SalesInThousands'].agg(['count', 'min', 'max', 'median', \"std\"])"
   ]
  },
  {
   "cell_type": "code",
   "execution_count": 17,
   "metadata": {},
   "outputs": [
    {
     "data": {
      "image/png": "[encoded data removed]",
      "text/plain": [
       "<Figure size 842.4x595.44 with 1 Axes>"
      ]
     },
     "metadata": {},
     "output_type": "display_data"
    },
    {
     "data": {
      "image/png": "[encoded data removed]",
      "text/plain": [
       "<Figure size 842.4x595.44 with 1 Axes>"
      ]
     },
     "metadata": {},
     "output_type": "display_data"
    },
    {
     "data": {
      "image/png": "[encoded data removed]",
      "text/plain": [
       "<Figure size 842.4x595.44 with 1 Axes>"
      ]
     },
     "metadata": {},
     "output_type": "display_data"
    }
   ],
   "source": [
    "show_hist(df, 'SalesInThousands', 17, is_kde=True)"
   ]
  },
  {
   "cell_type": "markdown",
   "metadata": {},
   "source": [
    "<b>Note: </b> we can see that \"Promotion\" by \"SalesInThousands\" columns are not 'normal distributed and follows the idea of 'Bimodal' distribution. We should note it while we are choosing how we are going to test our hypothesis."
   ]
  },
  {
   "cell_type": "code",
   "execution_count": 18,
   "metadata": {},
   "outputs": [
    {
     "data": {
      "image/png": "[encoded data removed]",
      "text/plain": [
       "<Figure size 842.4x595.44 with 1 Axes>"
      ]
     },
     "metadata": {},
     "output_type": "display_data"
    }
   ],
   "source": [
    "# checking for outliers\n",
    "_ = sns.boxplot(data=df, x='Promotion', y='SalesInThousands')"
   ]
  },
  {
   "cell_type": "markdown",
   "metadata": {},
   "source": [
    "<b>Note: </b> we can see from the boxplot that our data has outliers and is skewed to the right. There is a high chance that it will not pass the first test of Normality. So, we need to remove outliers before we will proceed to the next step."
   ]
  },
  {
   "cell_type": "code",
   "execution_count": 19,
   "metadata": {},
   "outputs": [],
   "source": [
    "# function to remove outliers using IQR approach (we are using this approach because our data is not normally distributed)\n",
    "# https://www.geeksforgeeks.org/interquartile-range-to-detect-outliers-in-data/\n",
    "def remove_outliers(data, col_name):\n",
    "    # dealing with outliers for different each 'group' (promotion)\n",
    "    df_promotion_by_group = data[data['Promotion'] == col_name]\n",
    "    df_promotion_by_group = df_promotion_by_group.sort_values(by='SalesInThousands')\n",
    "\n",
    "    # calculating Q1, Q2, Q3 and IQR\n",
    "    Q1 = np.percentile(df_promotion_by_group['SalesInThousands'], 25, interpolation='midpoint')\n",
    "    Q2 = np.percentile(df_promotion_by_group['SalesInThousands'], 50, interpolation='midpoint')\n",
    "    Q3 = np.percentile(df_promotion_by_group['SalesInThousands'], 75, interpolation='midpoint')\n",
    "\n",
    "    # calculating IQR\n",
    "    IQR = Q3 - Q1\n",
    "\n",
    "    # finding the lower and upper limits respectively\n",
    "    low_lim = Q1 - 1.5 * IQR\n",
    "    up_lim = Q1 + 1.5 * IQR\n",
    "\n",
    "    return df_promotion_by_group[(df_promotion_by_group['SalesInThousands'] >= low_lim) & (df_promotion_by_group['SalesInThousands'] <= up_lim)]"
   ]
  },
  {
   "cell_type": "code",
   "execution_count": 20,
   "metadata": {},
   "outputs": [
    {
     "data": {
      "text/plain": [
       "((144, 7), (162, 7), (152, 7))"
      ]
     },
     "execution_count": 20,
     "metadata": {},
     "output_type": "execute_result"
    }
   ],
   "source": [
    "# removing outliers for each group (promotion)\n",
    "group_A = remove_outliers(df, 1)\n",
    "group_B = remove_outliers(df, 2)\n",
    "group_C = remove_outliers(df, 3)\n",
    "\n",
    "group_A.shape, group_B.shape, group_C.shape"
   ]
  },
  {
   "cell_type": "code",
   "execution_count": 21,
   "metadata": {},
   "outputs": [
    {
     "data": {
      "image/png": "[encoded data removed]",
      "text/plain": [
       "<Figure size 842.4x595.44 with 1 Axes>"
      ]
     },
     "metadata": {},
     "output_type": "display_data"
    }
   ],
   "source": [
    "# verifying that our data now is less affected by outliers\n",
    "df_no_outliers = pd.concat([group_A, group_B, group_C])\n",
    "_ = sns.boxplot(data=df_no_outliers, x='Promotion', y='SalesInThousands')"
   ]
  },
  {
   "cell_type": "markdown",
   "metadata": {},
   "source": [
    "<b>Note: </b> now our data is clean and we are ready to proceed with the hypothesis testing part."
   ]
  },
  {
   "cell_type": "markdown",
   "metadata": {},
   "source": [
    "<h3>A / B Testing</h3>"
   ]
  },
  {
   "cell_type": "markdown",
   "metadata": {},
   "source": [
    "![A/B - Testing](./imgs/3.png \"A/B Testing\")"
   ]
  },
  {
   "cell_type": "markdown",
   "metadata": {},
   "source": [
    "<b>Note: </b> two things we should mention before we will proceed with our hypothesis testing. First of all, we are working with continuous value  ('SalesInThousands' column). Secondly, we do have a large sample size (n>30). Knowing all of these, we can move to the first assumption of the Parametric Test that independently collected samples are following the rule of normality."
   ]
  },
  {
   "cell_type": "code",
   "execution_count": 22,
   "metadata": {},
   "outputs": [
    {
     "data": {
      "text/plain": [
       "((144,), (162,), (152,))"
      ]
     },
     "execution_count": 22,
     "metadata": {},
     "output_type": "execute_result"
    }
   ],
   "source": [
    "# preparing our data by storing it into three  separate groups for further evaluation\n",
    "group_A = group_A['SalesInThousands']\n",
    "group_B = group_B['SalesInThousands']\n",
    "group_C = group_C['SalesInThousands']\n",
    "\n",
    "group_A.shape, group_B.shape, group_C.shape"
   ]
  },
  {
   "cell_type": "code",
   "execution_count": 23,
   "metadata": {},
   "outputs": [
    {
     "name": "stdout",
     "output_type": "stream",
     "text": [
      "Promotion #1\n",
      "P_value: 0.00222\n",
      "We REJECT the null hypothesis that the data was drawn from a normal distribution.\n",
      "\n",
      "Promotion #2\n",
      "P_value: 0.00222\n",
      "We REJECT the null hypothesis that the data was drawn from a normal distribution.\n",
      "\n",
      "Promotion #3\n",
      "P_value: 0.00222\n",
      "We REJECT the null hypothesis that the data was drawn from a normal distribution.\n",
      "\n"
     ]
    }
   ],
   "source": [
    "# checking for Normality using the Shapiro-Wilk test\n",
    "# https://docs.scipy.org/doc/scipy/reference/generated/scipy.stats.shapiro.html\n",
    "for index, i in enumerate([group_A, group_B, group_C]):\n",
    "    shapiro_stat, shapiro_p_value = shapiro(group_A)\n",
    "    if shapiro_p_value <= 0.05:\n",
    "        print(f\"Promotion #{index+1}\")\n",
    "        print(f\"P_value: {round(shapiro_p_value, 5)}\")\n",
    "        print(f\"We REJECT the null hypothesis that the data was drawn from a normal distribution.\\n\")\n",
    "    else:\n",
    "        print(f\"Promtion {index+1}\")\n",
    "        print(f\"P_value: {round(shapiro_p_value, 5)}\")\n",
    "        print(f\"We FAIL to reject the null hypothesis that the data was drawn from a normal distribution.\\n\")"
   ]
  },
  {
   "cell_type": "markdown",
   "metadata": {},
   "source": [
    "<b>Note: </b> as we can see all three samples are failed the normality test. Thereby, we will be using a Non-Parametric Test to answer our question if those samples (promotions) have medians that are statistically different from each other. "
   ]
  },
  {
   "cell_type": "code",
   "execution_count": 24,
   "metadata": {},
   "outputs": [
    {
     "name": "stdout",
     "output_type": "stream",
     "text": [
      "group_A vs group_B\n",
      "P_value: 0.0\n",
      "We REJECT the null hypothesis that the distribution underlying sample x is the same as the distribution underlying sample y.\n",
      "\n",
      "group_A vs group_C\n",
      "P_value: 0.00082\n",
      "We REJECT the null hypothesis that the distribution underlying sample x is the same as the distribution underlying sample y.\n",
      "\n",
      "group_B vs group_C\n",
      "P_value: 0.0\n",
      "We REJECT the null hypothesis that the distribution underlying sample x is the same as the distribution underlying sample y.\n",
      "\n"
     ]
    }
   ],
   "source": [
    "# performing the Mann-Whitney U rank test on two independent samples\n",
    "# https://docs.scipy.org/doc/scipy/reference/generated/scipy.stats.mannwhitneyu.html\n",
    "list_of_group_combinations = [((group_A, 'group_A'), (group_B, 'group_B')),\n",
    "                             ((group_A, 'group_A'), (group_C, 'group_C')),\n",
    "                             ((group_B, 'group_B'), (group_C, 'group_C'))]\n",
    "\n",
    "for i in list_of_group_combinations:\n",
    "    mw_stat, mw_p_value = mannwhitneyu(i[0][0], i[1][0])\n",
    "    \n",
    "    if mw_p_value <= 0.05:\n",
    "        print(f\"{i[0][1]} vs {i[1][1]}\")\n",
    "        print(f\"P_value: {round(mw_p_value, 5)}\")\n",
    "        print(f\"We REJECT the null hypothesis that the distribution underlying sample x is the same as the distribution underlying sample y.\\n\")\n",
    "    else:\n",
    "        print(f\"{i[0][1]} vs {i[1][1]}\")\n",
    "        print(f\"P_value: {round(mw_p_value, 5)}\")\n",
    "        print(f\"We FAILED to reject the null hypothesis that the distribution underlying sample x is the same as the distribution underlying sample y.\\n\")\n",
    "    "
   ]
  },
  {
   "cell_type": "markdown",
   "metadata": {},
   "source": [
    "![A/B - Testing](./imgs/4.png \"A/B Testing\")"
   ]
  },
  {
   "cell_type": "code",
   "execution_count": 25,
   "metadata": {},
   "outputs": [
    {
     "name": "stdout",
     "output_type": "stream",
     "text": [
      "P_value: 0.0\n",
      "We REJECT the null hypothesis that the population median of all of the groups are equal.\n"
     ]
    }
   ],
   "source": [
    "# using one-way Anova to confirm our results: The Kruskal-Wallis H-test\n",
    "# https://docs.scipy.org/doc/scipy/reference/generated/scipy.stats.kruskal.html\n",
    "kruskal_stat, kruskal_p_value = kruskal(group_A, group_B, group_C)\n",
    "if kruskal_p_value <= 0.05:\n",
    "    print(f\"P_value: {round(kruskal_p_value, 5)}\")\n",
    "    print(f\"We REJECT the null hypothesis that the population median of all of the groups are equal.\")\n",
    "else:\n",
    "    print(f\"P_value: {round(kruskal_p_value, 5)}\")\n",
    "    print(f\"We FAILE to reject the null hypothesis that the population median of all of the groups are equal.\")"
   ]
  },
  {
   "cell_type": "code",
   "execution_count": 26,
   "metadata": {},
   "outputs": [
    {
     "data": {
      "text/html": [
       "<div>\n",
       "<style scoped>\n",
       "    .dataframe tbody tr th:only-of-type {\n",
       "        vertical-align: middle;\n",
       "    }\n",
       "\n",
       "    .dataframe tbody tr th {\n",
       "        vertical-align: top;\n",
       "    }\n",
       "\n",
       "    .dataframe thead th {\n",
       "        text-align: right;\n",
       "    }\n",
       "</style>\n",
       "<table border=\"1\" class=\"dataframe\">\n",
       "  <thead>\n",
       "    <tr style=\"text-align: right;\">\n",
       "      <th></th>\n",
       "      <th>1</th>\n",
       "      <th>2</th>\n",
       "      <th>3</th>\n",
       "    </tr>\n",
       "  </thead>\n",
       "  <tbody>\n",
       "    <tr>\n",
       "      <th>1</th>\n",
       "      <td>1.000000e+00</td>\n",
       "      <td>3.030824e-16</td>\n",
       "      <td>1.901511e-03</td>\n",
       "    </tr>\n",
       "    <tr>\n",
       "      <th>2</th>\n",
       "      <td>3.030824e-16</td>\n",
       "      <td>1.000000e+00</td>\n",
       "      <td>1.130608e-07</td>\n",
       "    </tr>\n",
       "    <tr>\n",
       "      <th>3</th>\n",
       "      <td>1.901511e-03</td>\n",
       "      <td>1.130608e-07</td>\n",
       "      <td>1.000000e+00</td>\n",
       "    </tr>\n",
       "  </tbody>\n",
       "</table>\n",
       "</div>"
      ],
      "text/plain": [
       "              1             2             3\n",
       "1  1.000000e+00  3.030824e-16  1.901511e-03\n",
       "2  3.030824e-16  1.000000e+00  1.130608e-07\n",
       "3  1.901511e-03  1.130608e-07  1.000000e+00"
      ]
     },
     "execution_count": 26,
     "metadata": {},
     "output_type": "execute_result"
    }
   ],
   "source": [
    "# to learn what groups (promotions) differ in their medians we need to run post hoc tests (non-parametric test).\n",
    "posthoc_conover(df_no_outliers, val_col='SalesInThousands', group_col='Promotion')"
   ]
  },
  {
   "cell_type": "markdown",
   "metadata": {},
   "source": [
    "<b>Note: </b> comparisons show that we may reject the null hypothesis (p < 0.05) for each pair of groups and conclude that all groups (promotions) differ in their effectiveness."
   ]
  },
  {
   "cell_type": "code",
   "execution_count": 27,
   "metadata": {},
   "outputs": [
    {
     "data": {
      "text/html": [
       "<div>\n",
       "<style scoped>\n",
       "    .dataframe tbody tr th:only-of-type {\n",
       "        vertical-align: middle;\n",
       "    }\n",
       "\n",
       "    .dataframe tbody tr th {\n",
       "        vertical-align: top;\n",
       "    }\n",
       "\n",
       "    .dataframe thead th {\n",
       "        text-align: right;\n",
       "    }\n",
       "</style>\n",
       "<table border=\"1\" class=\"dataframe\">\n",
       "  <thead>\n",
       "    <tr style=\"text-align: right;\">\n",
       "      <th></th>\n",
       "      <th>median</th>\n",
       "      <th>mean</th>\n",
       "    </tr>\n",
       "    <tr>\n",
       "      <th>Promotion</th>\n",
       "      <th></th>\n",
       "      <th></th>\n",
       "    </tr>\n",
       "  </thead>\n",
       "  <tbody>\n",
       "    <tr>\n",
       "      <th>1</th>\n",
       "      <td>53445.0</td>\n",
       "      <td>51964.652778</td>\n",
       "    </tr>\n",
       "    <tr>\n",
       "      <th>2</th>\n",
       "      <td>44225.0</td>\n",
       "      <td>42648.950617</td>\n",
       "    </tr>\n",
       "    <tr>\n",
       "      <th>3</th>\n",
       "      <td>49510.0</td>\n",
       "      <td>48364.078947</td>\n",
       "    </tr>\n",
       "  </tbody>\n",
       "</table>\n",
       "</div>"
      ],
      "text/plain": [
       "            median          mean\n",
       "Promotion                       \n",
       "1          53445.0  51964.652778\n",
       "2          44225.0  42648.950617\n",
       "3          49510.0  48364.078947"
      ]
     },
     "execution_count": 27,
     "metadata": {},
     "output_type": "execute_result"
    }
   ],
   "source": [
    "# looking at stats (mean/median) of \"SalesInThousands\" by different groups (\"Promotions\")\n",
    "df_no_outliers.groupby('Promotion')['SalesInThousands'].agg(['median', 'mean'])"
   ]
  },
  {
   "cell_type": "code",
   "execution_count": 28,
   "metadata": {},
   "outputs": [],
   "source": [
    "# calculating the ratio of median devided by sum for each group\n",
    "def median_ration(data, group_name):\n",
    "    group_median = df_no_outliers[df_no_outliers['Promotion'] == group_name]['SalesInThousands'].median()\n",
    "    group_sum = df_no_outliers[df_no_outliers['Promotion'] == group_name]['SalesInThousands'].sum()\n",
    "    \n",
    "    return group_median / group_sum * 100"
   ]
  },
  {
   "cell_type": "code",
   "execution_count": 29,
   "metadata": {},
   "outputs": [
    {
     "name": "stdout",
     "output_type": "stream",
     "text": [
      "Group_A 'promotion #1' has more effect than group_B 'promotion #2' by: 0.074%\n",
      "Group_A 'promotion #1' has more effect than group_C 'promotion #3' by: 0.041%\n"
     ]
    }
   ],
   "source": [
    "group_A_ratio = median_ration(df_no_outliers, 1)\n",
    "group_B_ratio = median_ration(df_no_outliers, 2)\n",
    "group_C_ratio = median_ration(df_no_outliers, 3)\n",
    "\n",
    "print(f\"Group_A 'promotion #1' has more effect than group_B 'promotion #2' by: {round(group_A_ratio - group_B_ratio, 3)}%\")\n",
    "print(f\"Group_A 'promotion #1' has more effect than group_C 'promotion #3' by: {round(group_A_ratio - group_C_ratio, 3)}%\")"
   ]
  },
  {
   "cell_type": "markdown",
   "metadata": {},
   "source": [
    "<h3>Summary:</h3>"
   ]
  },
  {
   "cell_type": "markdown",
   "metadata": {},
   "source": [
    "We have completed two Non-Parametric Tests:\n",
    "<ul>\n",
    "    <li>the Mann-Whitney U rank test on pair groups individually (including all combinations);</li>\n",
    "    <li>The Kruskal-Wallis H-test with the combination of post hoc tests;</li>\n",
    "</ul>\n",
    "<b>Answer to our client: </b>promotion # 1 has more impact compared to others by 0.074% and 0.041% respectively.<br/ ><br/ >\n",
    "<b>Statistical advice: </b>given the data, and performed tests, we advise using promotion # 1.<br/ ><br/ >\n",
    "<b>Suggestions: </b>the experiment could be extended for a longer time, so we can gain more data and have statistically more accurate results."
   ]
  }
 ],
 "metadata": {
  "kernelspec": {
   "display_name": "Python 3",
   "language": "python",
   "name": "python3"
  },
  "language_info": {
   "codemirror_mode": {
    "name": "ipython",
    "version": 3
   },
   "file_extension": ".py",
   "mimetype": "text/x-python",
   "name": "python",
   "nbconvert_exporter": "python",
   "pygments_lexer": "ipython3",
   "version": "3.8.5"
  }
 },
 "nbformat": 4,
 "nbformat_minor": 4
}
